{
 "cells": [
  {
   "cell_type": "code",
   "execution_count": 21,
   "metadata": {
    "collapsed": true
   },
   "outputs": [],
   "source": [
    "import os \n",
    "import tarfile\n",
    "from six.moves import urllib\n",
    "import bz2\n",
    "from bz2 import decompress\n",
    "import sys\n",
    "import pandas as pd\n",
    "from nltk.stem import PorterStemmer, WordNetLemmatizer\n",
    "import re\n",
    "import numpy as np\n",
    "import datetime\n",
    "import email\n",
    "import email.policy\n",
    "#need to implement this\n",
    "from pathlib import Path"
   ]
  },
  {
   "cell_type": "code",
   "execution_count": 22,
   "metadata": {
    "collapsed": true
   },
   "outputs": [],
   "source": [
    "DOWNLOAD_ROOT=\"http://spamassassin.apache.org/old/publiccorpus/\"\n",
    "SAVE_PATH='datasets/spam'\n",
    "ham_1='20021010_easy_ham.tar.bz2'\n",
    "ham_2='20021010_hard_ham.tar.bz2'\n",
    "ham_3='20030228_easy_ham.tar.bz2'\n",
    "ham_4='20030228_easy_ham_2.tar.bz2'\n",
    "ham_5='20030228_hard_ham.tar.bz2'\n",
    "spam_1='20021010_spam.tar.bz2'\n",
    "spam_2='20030228_spam.tar.bz2'\n",
    "spam_3='20030228_spam_2.tar.bz2'\n",
    "spam_4='20050311_spam_2.tar.bz2'\n",
    "ham_filenames=SAVE_PATH + '/easy_ham/'\n",
    "spam_filenames=SAVE_PATH+'/spam/'"
   ]
  },
  {
   "cell_type": "code",
   "execution_count": 23,
   "metadata": {
    "collapsed": true
   },
   "outputs": [],
   "source": [
    "def fetch_spam_data(download_root=DOWNLOAD_ROOT,file=ham_1,save_path=SAVE_PATH):\n",
    "    if not os.path.isdir(save_path):\n",
    "        os.makedirs(save_path)\n",
    "    bz2_path=os.path.join(save_path,file)\n",
    "    url_path=download_root+file\n",
    "    urllib.request.urlretrieve(url_path,bz2_path)\n",
    "    #decomp=bz2.BZ2Decompressor()\n",
    "    file_extract=tarfile.open(bz2_path)\n",
    "    file_extract.extractall(path=save_path)\n",
    "    file_extract.close()\n",
    "    "
   ]
  },
  {
   "cell_type": "code",
   "execution_count": 24,
   "metadata": {
    "collapsed": true
   },
   "outputs": [],
   "source": [
    "fetch_spam_data()\n",
    "fetch_spam_data(file=ham_2)\n",
    "fetch_spam_data(file=ham_3)\n",
    "fetch_spam_data(file=ham_4)\n",
    "fetch_spam_data(file=ham_5)\n",
    "fetch_spam_data(file=spam_1)\n",
    "fetch_spam_data(file=spam_2)\n",
    "fetch_spam_data(file=spam_3)\n",
    "fetch_spam_data(file=spam_4)"
   ]
  },
  {
   "cell_type": "code",
   "execution_count": 25,
   "metadata": {},
   "outputs": [],
   "source": [
    "ham_path=SAVE_PATH + '/easy_ham/'\n",
    "spam_path=SAVE_PATH+'/spam/'"
   ]
  },
  {
   "cell_type": "code",
   "execution_count": 26,
   "metadata": {
    "collapsed": true
   },
   "outputs": [],
   "source": [
    "for file in os.listdir(SAVE_PATH + '/easy_ham_2/'):\n",
    "    os.rename(SAVE_PATH + '/easy_ham_2/'+file,ham_path+file)\n",
    "for file in os.listdir(SAVE_PATH + '/spam_2'):\n",
    "    os.rename(SAVE_PATH+'/spam_2/'+file,spam_path+file)\n",
    "    #print(file.)"
   ]
  },
  {
   "cell_type": "code",
   "execution_count": 27,
   "metadata": {
    "collapsed": true
   },
   "outputs": [],
   "source": [
    "#Copied from https://github.com/ageron/handson-ml/blob/master/03_classification.ipynb\n",
    "\n",
    "def load_email(is_spam, filename, spam_path=SAVE_PATH):\n",
    "    directory = \"spam\" if is_spam else \"easy_ham\"\n",
    "    with open(os.path.join(spam_path, directory, filename), \"rb\") as f:\n",
    "        return email.parser.BytesParser(policy=email.policy.default).parse(f)"
   ]
  },
  {
   "cell_type": "code",
   "execution_count": 28,
   "metadata": {},
   "outputs": [],
   "source": [
    "ham_filenames = [name for name in sorted(os.listdir(ham_path)) if len(name) > 20]\n",
    "spam_filenames = [name for name in sorted(os.listdir(spam_path)) if len(name) > 20]"
   ]
  },
  {
   "cell_type": "code",
   "execution_count": 29,
   "metadata": {},
   "outputs": [],
   "source": [
    "def load_email(is_spam, filename, spam_path=SAVE_PATH):\n",
    "    directory = \"spam\" if is_spam else \"easy_ham\"\n",
    "    with open(os.path.join(spam_path, directory, filename), \"rb\") as f:\n",
    "        return email.parser.BytesParser(policy=email.policy.default).parse(f)"
   ]
  },
  {
   "cell_type": "code",
   "execution_count": 30,
   "metadata": {},
   "outputs": [],
   "source": [
    "ham_emails = [load_email(is_spam=False, filename=name) for name in ham_filenames]\n",
    "spam_emails = [load_email(is_spam=True, filename=name) for name in spam_filenames]"
   ]
  },
  {
   "cell_type": "code",
   "execution_count": 35,
   "metadata": {},
   "outputs": [],
   "source": [
    "x=ham_emails[0]"
   ]
  },
  {
   "cell_type": "code",
   "execution_count": 36,
   "metadata": {},
   "outputs": [
    {
     "data": {
      "text/plain": [
       "<email.message.EmailMessage at 0x7fa1f2908da0>"
      ]
     },
     "execution_count": 36,
     "metadata": {},
     "output_type": "execute_result"
    }
   ],
   "source": [
    "x"
   ]
  },
  {
   "cell_type": "code",
   "execution_count": null,
   "metadata": {
    "collapsed": true
   },
   "outputs": [],
   "source": []
  }
 ],
 "metadata": {
  "kernelspec": {
   "display_name": "Python 3",
   "language": "python",
   "name": "python3"
  },
  "language_info": {
   "codemirror_mode": {
    "name": "ipython",
    "version": 3
   },
   "file_extension": ".py",
   "mimetype": "text/x-python",
   "name": "python",
   "nbconvert_exporter": "python",
   "pygments_lexer": "ipython3",
   "version": "3.6.3"
  }
 },
 "nbformat": 4,
 "nbformat_minor": 2
}
